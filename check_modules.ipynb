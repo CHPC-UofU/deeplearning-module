{
 "cells": [
  {
   "cell_type": "markdown",
   "id": "4373a382-8ce4-4654-9734-870cb2e85fc4",
   "metadata": {},
   "source": [
    "# check_modules"
   ]
  },
  {
   "cell_type": "markdown",
   "id": "8964609c-88d9-4f22-bef5-9ba6102823ad",
   "metadata": {},
   "source": [
    "Jupyter notebook to confirm presence and report version number of various programs and required python modules."
   ]
  },
  {
   "cell_type": "code",
   "execution_count": null,
   "id": "ff48aa02-1b45-43b7-8878-793b760fe61e",
   "metadata": {
    "scrolled": true
   },
   "outputs": [],
   "source": [
    "import sys\n",
    "print(f\"python {sys.version}\")\n",
    "import tensorflow\n",
    "print(f\"tensorflow {tensorflow.__version__}\")\n",
    "import keras\n",
    "print(f\"keras {keras.__version__}\")\n",
    "import sklearn\n",
    "print(f\"sklearn {sklearn.__version__}\")\n",
    "import skimage\n",
    "print(f\"skimage {skimage.__version__}\")\n",
    "import pandas\n",
    "print(f\"pandas {pandas.__version__}\")\n",
    "import polars\n",
    "print(f\"polars {polars.__version__}\")\n",
    "import jax\n",
    "print(f\"jax {jax.__version__}\")\n",
    "import flax\n",
    "print(f\"flax {flax.__version__}\")\n",
    "import PIL\n",
    "print(f\"PIL {PIL.__version__}\")\n",
    "import seaborn\n",
    "print(f\"seaborn {seaborn.__version__}\")\n",
    "import matplotlib\n",
    "print(f\"matplotlib {matplotlib.__version__}\")\n",
    "import torch\n",
    "print(f\"torch {torch.__version__}\")\n",
    "import torchaudio\n",
    "print(f\"torchaudio {torchaudio.__version__}\")\n",
    "import torchgen\n",
    "print(f\"torchgen present, version unknown\")\n",
    "import torchvision\n",
    "print(f\"torchvision {torchvision.__version__}\")"
   ]
  },
  {
   "cell_type": "markdown",
   "id": "000b0bcc-2239-4034-aaec-3efebc7ef773",
   "metadata": {},
   "source": [
    "Confirm that torch installation uses GPU."
   ]
  },
  {
   "cell_type": "code",
   "execution_count": null,
   "id": "ac5ad702-a646-4a11-b686-ed8bbaacdf9b",
   "metadata": {},
   "outputs": [],
   "source": [
    "torch.cuda.is_available()"
   ]
  },
  {
   "cell_type": "code",
   "execution_count": null,
   "id": "62291eab-74be-4353-99b6-71650db55cf3",
   "metadata": {},
   "outputs": [],
   "source": [
    "device = torch.device(\"cuda\" if torch.cuda.is_available() else \"cpu\")\n",
    "print(f\"Using device: {device}\")"
   ]
  },
  {
   "cell_type": "code",
   "execution_count": null,
   "id": "3eb9624d-71b8-43c2-84da-64eb5ac81e7b",
   "metadata": {},
   "outputs": [],
   "source": []
  }
 ],
 "metadata": {
  "kernelspec": {
   "display_name": "Python 3 (ipykernel)",
   "language": "python",
   "name": "python3"
  },
  "language_info": {
   "codemirror_mode": {
    "name": "ipython",
    "version": 3
   },
   "file_extension": ".py",
   "mimetype": "text/x-python",
   "name": "python",
   "nbconvert_exporter": "python",
   "pygments_lexer": "ipython3",
   "version": "3.11.0rc1"
  }
 },
 "nbformat": 4,
 "nbformat_minor": 5
}
